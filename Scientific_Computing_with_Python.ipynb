{
  "nbformat": 4,
  "nbformat_minor": 0,
  "metadata": {
    "colab": {
      "provenance": [],
      "authorship_tag": "ABX9TyMHHTD2zWoyN87PThNmFAXv",
      "include_colab_link": true
    },
    "kernelspec": {
      "name": "python3",
      "display_name": "Python 3"
    },
    "language_info": {
      "name": "python"
    }
  },
  "cells": [
    {
      "cell_type": "markdown",
      "metadata": {
        "id": "view-in-github",
        "colab_type": "text"
      },
      "source": [
        "<a href=\"https://colab.research.google.com/github/Anilai021/SCP2024/blob/main/Scientific_Computing_with_Python.ipynb\" target=\"_parent\"><img src=\"https://colab.research.google.com/assets/colab-badge.svg\" alt=\"Open In Colab\"/></a>"
      ]
    },
    {
      "cell_type": "markdown",
      "source": [
        "1. LEARN STRING MANIPULATION BY BUILDING A CIPHER\n",
        "\n",
        "Python is a powerful and popular programming language widely used for data science, data visualization, web development, game development, machine learning and more. In this project, I'll learn fundamental programming concepts in Python, such as variables, functions, loops, and conditional statements. You'll use these to code your first programs."
      ],
      "metadata": {
        "id": "1lnLwSm2sH2S"
      }
    },
    {
      "cell_type": "markdown",
      "source": [
        "**Step 1 :**\n",
        "\n",
        "Variables are an essential part of Python and any programming language. A variable is a name that references or points to an object. You can declare a variable by writing the variable name on the left side of the assignment operator = and specifying the value to assign to that variable on the right side of the assignment operator:\n",
        "\n",
        "**variable_name = value**\n",
        "\n",
        "\n",
        "---\n",
        "\n",
        "\n",
        "Create a variable called number and assign the value 5 to your new variable"
      ],
      "metadata": {
        "id": "IKrRlHrpumQL"
      }
    },
    {
      "cell_type": "code",
      "source": [
        "number = 5"
      ],
      "metadata": {
        "id": "mibTLMH1vBZl"
      },
      "execution_count": 1,
      "outputs": []
    },
    {
      "cell_type": "markdown",
      "source": [
        "**Step 2**\n",
        "\n",
        "Variables can store values of different data types. You just assigned an integer value, but if you want to represent some text, you need to assign a string. Strings are sequences of characters enclosed by single or double quotes, but you cannot start a string with a single quote and end it with a double quote or vice versa:\n",
        "\n",
        "string_1 = \"I am a string\"\n",
        "string_2 = 'I am also a string'\n",
        "string_3 = 'This is not valid\"\n",
        "\n",
        "\n",
        "---\n",
        "\n",
        "\n",
        "Delete your number variable and its value. Then, declare another variable called text and assign the string 'Hello World' to this variable."
      ],
      "metadata": {
        "id": "ezweeQ60vXP7"
      }
    },
    {
      "cell_type": "code",
      "source": [
        "text = 'Hello World'"
      ],
      "metadata": {
        "id": "UUhrCKodvG-1"
      },
      "execution_count": 2,
      "outputs": []
    },
    {
      "cell_type": "markdown",
      "source": [
        "**Step 3**\n",
        "You can use the built-in function print() to print the output of your code on the terminal.\n",
        "\n",
        "Functions are reusable code blocks that you can call, or invoke, to run their code when you need them. To call a function, you just need to write a pair of parentheses next to its name. You will learn more about functions very soon.\n",
        "\n",
        "\n",
        "---\n",
        "\n",
        "\n",
        "For now, go to a new line and add an empty call to the print() function. You should not see any output yet."
      ],
      "metadata": {
        "id": "pmfVN5_uwBmQ"
      }
    },
    {
      "cell_type": "code",
      "source": [
        "print()"
      ],
      "metadata": {
        "colab": {
          "base_uri": "https://localhost:8080/"
        },
        "id": "JF6XQZEUv2rM",
        "outputId": "d1b62cfb-b7de-4ab0-ee69-6544dfd7768f"
      },
      "execution_count": 3,
      "outputs": [
        {
          "output_type": "stream",
          "name": "stdout",
          "text": [
            "\n"
          ]
        }
      ]
    },
    {
      "cell_type": "markdown",
      "source": [
        "**Step 4**\n",
        "An argument is an object or an expression passed to a function — added between the opening and closing parentheses — when it is called:\n",
        "\n",
        "greet = 'Hello!'\n",
        "\n",
        "print(greet)\n",
        "\n",
        "The code in the example above would print the string 'Hello!', which is the value of the variable greet passed to print() as the argument.\n",
        "\n",
        "\n",
        "---\n",
        "\n",
        "\n",
        "\n",
        "Print your text variable to the screen by passing the text variable as the argument to the print() function."
      ],
      "metadata": {
        "id": "Y-btx81awYYP"
      }
    },
    {
      "cell_type": "code",
      "source": [
        "print(text)"
      ],
      "metadata": {
        "colab": {
          "base_uri": "https://localhost:8080/"
        },
        "id": "4m7flopZwg4_",
        "outputId": "8f942992-494d-4622-828c-6ec239d54cf5"
      },
      "execution_count": 4,
      "outputs": [
        {
          "output_type": "stream",
          "name": "stdout",
          "text": [
            "Hello World\n"
          ]
        }
      ]
    },
    {
      "cell_type": "code",
      "source": [],
      "metadata": {
        "id": "Mr8ZuS6iwlWJ"
      },
      "execution_count": null,
      "outputs": []
    }
  ]
}