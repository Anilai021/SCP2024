{
  "nbformat": 4,
  "nbformat_minor": 0,
  "metadata": {
    "colab": {
      "provenance": [],
      "authorship_tag": "ABX9TyPc0evY844w16RXFNRFAAgA",
      "include_colab_link": true
    },
    "kernelspec": {
      "name": "python3",
      "display_name": "Python 3"
    },
    "language_info": {
      "name": "python"
    }
  },
  "cells": [
    {
      "cell_type": "markdown",
      "metadata": {
        "id": "view-in-github",
        "colab_type": "text"
      },
      "source": [
        "<a href=\"https://colab.research.google.com/github/Anilai021/SCP2024/blob/main/Scientific_Computing_with_Python.ipynb\" target=\"_parent\"><img src=\"https://colab.research.google.com/assets/colab-badge.svg\" alt=\"Open In Colab\"/></a>"
      ]
    },
    {
      "cell_type": "markdown",
      "source": [
        "**LEARN STRING MANIPULATION BY BUILDING A CIPHER**\n",
        "\n",
        "\n",
        "Python is a powerful and popular programming language widely used for data science, data visualization, web development, game development, machine learning and more. In this project, I'll learn fundamental programming concepts in Python, such as variables, functions, loops, and conditional statements. You'll use these to code your first programs."
      ],
      "metadata": {
        "id": "1lnLwSm2sH2S"
      }
    },
    {
      "cell_type": "markdown",
      "source": [
        "**Step 1 :**\n",
        "\n",
        "Variables are an essential part of Python and any programming language. A variable is a name that references or points to an object. You can declare a variable by writing the variable name on the left side of the assignment operator = and specifying the value to assign to that variable on the right side of the assignment operator:\n",
        "\n",
        "**variable_name = value**\n",
        "\n",
        "\n",
        "---\n",
        "\n",
        "\n",
        "Create a variable called number and assign the value 5 to your new variable"
      ],
      "metadata": {
        "id": "IKrRlHrpumQL"
      }
    },
    {
      "cell_type": "code",
      "source": [
        "number = 5"
      ],
      "metadata": {
        "id": "mibTLMH1vBZl"
      },
      "execution_count": null,
      "outputs": []
    },
    {
      "cell_type": "markdown",
      "source": [
        "**Step 2**\n",
        "\n",
        "Variables can store values of different data types. You just assigned an integer value, but if you want to represent some text, you need to assign a string. Strings are sequences of characters enclosed by single or double quotes, but you cannot start a string with a single quote and end it with a double quote or vice versa:\n",
        "\n",
        "string_1 = \"I am a string\"\n",
        "string_2 = 'I am also a string'\n",
        "string_3 = 'This is not valid\"\n",
        "\n",
        "\n",
        "---\n",
        "\n",
        "\n",
        "Delete your number variable and its value. Then, declare another variable called text and assign the string 'Hello World' to this variable."
      ],
      "metadata": {
        "id": "ezweeQ60vXP7"
      }
    },
    {
      "cell_type": "code",
      "source": [
        "text = 'Hello World'"
      ],
      "metadata": {
        "id": "UUhrCKodvG-1"
      },
      "execution_count": null,
      "outputs": []
    },
    {
      "cell_type": "markdown",
      "source": [
        "**Step 3**\n",
        "You can use the built-in function print() to print the output of your code on the terminal.\n",
        "\n",
        "Functions are reusable code blocks that you can call, or invoke, to run their code when you need them. To call a function, you just need to write a pair of parentheses next to its name. You will learn more about functions very soon.\n",
        "\n",
        "\n",
        "---\n",
        "\n",
        "\n",
        "For now, go to a new line and add an empty call to the print() function. You should not see any output yet."
      ],
      "metadata": {
        "id": "pmfVN5_uwBmQ"
      }
    },
    {
      "cell_type": "code",
      "source": [
        "print()"
      ],
      "metadata": {
        "colab": {
          "base_uri": "https://localhost:8080/"
        },
        "id": "JF6XQZEUv2rM",
        "outputId": "d1b62cfb-b7de-4ab0-ee69-6544dfd7768f"
      },
      "execution_count": null,
      "outputs": [
        {
          "output_type": "stream",
          "name": "stdout",
          "text": [
            "\n"
          ]
        }
      ]
    },
    {
      "cell_type": "markdown",
      "source": [
        "**Step 4**\n",
        "An argument is an object or an expression passed to a function — added between the opening and closing parentheses — when it is called:\n",
        "\n",
        "greet = 'Hello!'\n",
        "\n",
        "print(greet)\n",
        "\n",
        "The code in the example above would print the string 'Hello!', which is the value of the variable greet passed to print() as the argument.\n",
        "\n",
        "\n",
        "---\n",
        "\n",
        "\n",
        "\n",
        "Print your text variable to the screen by passing the text variable as the argument to the print() function."
      ],
      "metadata": {
        "id": "Y-btx81awYYP"
      }
    },
    {
      "cell_type": "code",
      "source": [
        "print(text)"
      ],
      "metadata": {
        "colab": {
          "base_uri": "https://localhost:8080/"
        },
        "id": "4m7flopZwg4_",
        "outputId": "8f942992-494d-4622-828c-6ec239d54cf5"
      },
      "execution_count": null,
      "outputs": [
        {
          "output_type": "stream",
          "name": "stdout",
          "text": [
            "Hello World\n"
          ]
        }
      ]
    },
    {
      "cell_type": "markdown",
      "source": [
        "Step 5\n",
        "\n",
        "Each string character can be referenced by a numerical index. The index count starts at zero. So the first character of a string has an index of 0. For example, in the string 'Hello World', 'H' is at index 0, 'e' is at index 1, and so on.\n",
        "\n",
        "Each character of a string can be accessed by using bracket notation. You need to write the variable name followed by square brackets and add the index of the character between the brackets:\n",
        "\n",
        "text = 'Hello World'\n",
        "r = text[8]\n",
        "\n",
        "Now, instead of printing text, print just the character at index 6.\n"
      ],
      "metadata": {
        "id": "Lmn7EkDJHiIS"
      }
    },
    {
      "cell_type": "code",
      "source": [
        "text = 'Hello World'\n",
        "r = text[6]\n",
        "print(r)"
      ],
      "metadata": {
        "colab": {
          "base_uri": "https://localhost:8080/"
        },
        "id": "MQCILR0NHlVq",
        "outputId": "bcd8c84f-f797-475c-9088-837594b651f2"
      },
      "execution_count": null,
      "outputs": [
        {
          "output_type": "stream",
          "name": "stdout",
          "text": [
            "W\n"
          ]
        }
      ]
    },
    {
      "cell_type": "markdown",
      "source": [
        "Step 6\n",
        "\n",
        "You can also access string characters starting from the end of the string. The last character has an index of -1, the second to last -2 and so on.\n",
        "\n",
        "Now modify your existing print() call to print the last character in your string.\n"
      ],
      "metadata": {
        "id": "qiv4GuEnHtsf"
      }
    },
    {
      "cell_type": "code",
      "source": [
        "print(text[-1])"
      ],
      "metadata": {
        "colab": {
          "base_uri": "https://localhost:8080/"
        },
        "id": "o7xsyldxH1bO",
        "outputId": "da4a742e-76a0-494f-b909-7bd1433a433e"
      },
      "execution_count": null,
      "outputs": [
        {
          "output_type": "stream",
          "name": "stdout",
          "text": [
            "d\n"
          ]
        }
      ]
    },
    {
      "cell_type": "markdown",
      "source": [
        "Step 7\n",
        "\n",
        "You can access the number of characters in a string with the built-in len() function.\n",
        "\n",
        "Modify your existing print() call by passing len(text) instead of text[-1].\n"
      ],
      "metadata": {
        "id": "nVPOCBLUH7K8"
      }
    },
    {
      "cell_type": "code",
      "source": [
        "len (text)"
      ],
      "metadata": {
        "colab": {
          "base_uri": "https://localhost:8080/"
        },
        "id": "jDuRml2iHr9k",
        "outputId": "f194a205-1e5c-4c8a-9016-2a9221083158"
      },
      "execution_count": null,
      "outputs": [
        {
          "output_type": "execute_result",
          "data": {
            "text/plain": [
              "11"
            ]
          },
          "metadata": {},
          "execution_count": 3
        }
      ]
    },
    {
      "cell_type": "markdown",
      "source": [
        "Step 8\n",
        "\n",
        "You can see 11 printed on the terminal because 'Hello World' contains 11 characters.\n",
        "\n",
        "Another useful built-in function is type(), which returns the data type of a variable. Modify your print() call to print the data type of text.\n"
      ],
      "metadata": {
        "id": "tYToFre-IN0f"
      }
    },
    {
      "cell_type": "code",
      "source": [
        "print(type(text))"
      ],
      "metadata": {
        "colab": {
          "base_uri": "https://localhost:8080/"
        },
        "id": "ba_hrrWhIMgH",
        "outputId": "0dc764d5-7e7a-44ff-b505-041adb00a171"
      },
      "execution_count": null,
      "outputs": [
        {
          "output_type": "stream",
          "name": "stdout",
          "text": [
            "<class 'str'>\n"
          ]
        }
      ]
    },
    {
      "cell_type": "markdown",
      "source": [
        "Step 9\n",
        "\n",
        "As you can see, the output of printing type(text) is <class 'str'>, which means that your variable is a string, indicated as str.\n",
        "\n",
        "Now go to a new line and create another variable called shift and assign the value 3 to this variable.\n"
      ],
      "metadata": {
        "id": "GNj8m6VrhAbQ"
      }
    },
    {
      "cell_type": "code",
      "source": [
        "shift = 3"
      ],
      "metadata": {
        "id": "c2bIf8wLg7w1"
      },
      "execution_count": null,
      "outputs": []
    },
    {
      "cell_type": "markdown",
      "source": [
        "Step 10\n",
        "\n",
        "Now print your new variable."
      ],
      "metadata": {
        "id": "YHRVg9NJhV7N"
      }
    },
    {
      "cell_type": "code",
      "source": [
        "print(shift)"
      ],
      "metadata": {
        "colab": {
          "base_uri": "https://localhost:8080/"
        },
        "id": "sXq_-wEchNTD",
        "outputId": "7599a20b-53c2-457e-8a37-4047ac8f9b0c"
      },
      "execution_count": null,
      "outputs": [
        {
          "output_type": "stream",
          "name": "stdout",
          "text": [
            "3\n"
          ]
        }
      ]
    },
    {
      "cell_type": "markdown",
      "source": [
        "Step 11\n",
        "\n",
        "Modify your print(shift) call to print the data type of your shift variable.\n"
      ],
      "metadata": {
        "id": "qxpH1tnMhoL2"
      }
    },
    {
      "cell_type": "code",
      "source": [
        "print(type(shift))"
      ],
      "metadata": {
        "colab": {
          "base_uri": "https://localhost:8080/"
        },
        "id": "lIr_xwQshUap",
        "outputId": "574f72c9-92c3-42f3-e826-e7b4680504df"
      },
      "execution_count": null,
      "outputs": [
        {
          "output_type": "stream",
          "name": "stdout",
          "text": [
            "<class 'int'>\n"
          ]
        }
      ]
    },
    {
      "cell_type": "markdown",
      "source": [
        "Step 12\n",
        "\n",
        "Key aspects of variable naming in Python are:\n",
        "\n",
        "    Some words are reserved keywords (e.g. for, while, True). They have a special meaning in Python, so you cannot use them for variable names.\n",
        "    Variable names cannot start with a number, and they can only contain alpha-numeric characters or underscores.\n",
        "    Variable names are case sensitive, i.e. my_var is different from my_Var and MY_VAR.\n",
        "    Finally, it is a common convention to write variable names using snake_case, where each space is replaced by an underscore character and the words are written in lowercase letters.\n",
        "\n",
        "Remove both calls to print() and declare another variable called alphabet. Assign the string 'abcdefghijklmnopqrstuvwxyz' to this variable.\n"
      ],
      "metadata": {
        "id": "mlN13WmRiimo"
      }
    },
    {
      "cell_type": "code",
      "source": [
        "alphabet = 'abcdefghijklmnopqrstuvwxyz'"
      ],
      "metadata": {
        "id": "ISvflJmOih5a"
      },
      "execution_count": null,
      "outputs": []
    },
    {
      "cell_type": "markdown",
      "source": [
        "Step 13\n",
        "\n",
        "You are going to use the .find() method to find the position in the alphabet of each letter in your message. A method is similar to a function, but it belongs to an object.\n",
        "\n",
        "sentence = 'My brain hurts!'\n",
        "sentence.find('r')\n",
        "\n",
        "Above, the .find() method is called on sentence (the string to search in), and 'r' (the character to locate) is passed as the argument. The sentence.find('r') call will return 4, which is the index of the first occurrence of 'r' in sentence.\n",
        "\n",
        "At the end of your code, call .find() on alphabet and pass 'z' as the argument to the method.\n"
      ],
      "metadata": {
        "id": "08cLRXwJi8M9"
      }
    },
    {
      "cell_type": "code",
      "source": [
        "alphabet.find('z')"
      ],
      "metadata": {
        "colab": {
          "base_uri": "https://localhost:8080/"
        },
        "id": "-AIq27ZYi7dx",
        "outputId": "2a6fd27e-a35e-4411-993c-b4d2c2af0c10"
      },
      "execution_count": null,
      "outputs": [
        {
          "output_type": "execute_result",
          "data": {
            "text/plain": [
              "25"
            ]
          },
          "metadata": {},
          "execution_count": 10
        }
      ]
    },
    {
      "cell_type": "markdown",
      "source": [
        "Step 14\n",
        "\n",
        "The first kind of cipher you are going to build is called a Caesar cipher. Specifically, you will take each letter in your message, find its position in the alphabet, take the letter located after 3 positions in the alphabet, and replace the original letter with the new letter.\n",
        "\n",
        "To implement this, you will use the .find() method discussed in the previous step. Modify your existing .find() call passing it text[0] as the argument instead of 'z'.\n"
      ],
      "metadata": {
        "id": "YSzhSOVKji48"
      }
    },
    {
      "cell_type": "code",
      "source": [
        "text = 'Hello World'\n",
        "shift = 3\n",
        "alphabet = 'abcdefghijklmnopqrstuvwxyz'\n",
        "alphabet.find(text[0])"
      ],
      "metadata": {
        "colab": {
          "base_uri": "https://localhost:8080/"
        },
        "id": "hl1UescNdy7L",
        "outputId": "83d8e69a-ae88-45a7-d14f-ed7f88f8d917"
      },
      "execution_count": 3,
      "outputs": [
        {
          "output_type": "execute_result",
          "data": {
            "text/plain": [
              "-1"
            ]
          },
          "metadata": {},
          "execution_count": 3
        }
      ]
    },
    {
      "cell_type": "markdown",
      "source": [
        "Step 15\n",
        "The print() function gives you only an output in the console, but functions and methods can have a return value that you can use in your code.\n",
        "\n",
        "Now assign alphabet.find(text[0]) to a variable named index. In this way, index will store the value returned by alphabet.find(text[0])."
      ],
      "metadata": {
        "id": "G6BVVdrtotra"
      }
    },
    {
      "cell_type": "code",
      "source": [
        "index = alphabet.find(text[0])"
      ],
      "metadata": {
        "id": "Fjcf7fSrovMt"
      },
      "execution_count": 4,
      "outputs": []
    }
  ]
}