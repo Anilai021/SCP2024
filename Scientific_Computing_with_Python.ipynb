{
  "nbformat": 4,
  "nbformat_minor": 0,
  "metadata": {
    "colab": {
      "provenance": [],
      "authorship_tag": "ABX9TyMqFULWT54rwP3VPbsaJuo7",
      "include_colab_link": true
    },
    "kernelspec": {
      "name": "python3",
      "display_name": "Python 3"
    },
    "language_info": {
      "name": "python"
    }
  },
  "cells": [
    {
      "cell_type": "markdown",
      "metadata": {
        "id": "view-in-github",
        "colab_type": "text"
      },
      "source": [
        "<a href=\"https://colab.research.google.com/github/Anilai021/SCP2024/blob/main/Scientific_Computing_with_Python.ipynb\" target=\"_parent\"><img src=\"https://colab.research.google.com/assets/colab-badge.svg\" alt=\"Open In Colab\"/></a>"
      ]
    },
    {
      "cell_type": "markdown",
      "source": [
        "**LEARN STRING MANIPULATION BY BUILDING A CIPHER**\n",
        "\n",
        "\n",
        "Python is a powerful and popular programming language widely used for data science, data visualization, web development, game development, machine learning and more. In this project, I'll learn fundamental programming concepts in Python, such as variables, functions, loops, and conditional statements. You'll use these to code your first programs."
      ],
      "metadata": {
        "id": "1lnLwSm2sH2S"
      }
    },
    {
      "cell_type": "markdown",
      "source": [
        "**Step 1 :**\n",
        "\n",
        "Variables are an essential part of Python and any programming language. A variable is a name that references or points to an object. You can declare a variable by writing the variable name on the left side of the assignment operator = and specifying the value to assign to that variable on the right side of the assignment operator:\n",
        "\n",
        "**variable_name = value**\n",
        "\n",
        "\n",
        "---\n",
        "\n",
        "\n",
        "Create a variable called number and assign the value 5 to your new variable"
      ],
      "metadata": {
        "id": "IKrRlHrpumQL"
      }
    },
    {
      "cell_type": "code",
      "source": [
        "number = 5"
      ],
      "metadata": {
        "id": "mibTLMH1vBZl"
      },
      "execution_count": 9,
      "outputs": []
    },
    {
      "cell_type": "markdown",
      "source": [
        "**Step 2**\n",
        "\n",
        "Variables can store values of different data types. You just assigned an integer value, but if you want to represent some text, you need to assign a string. Strings are sequences of characters enclosed by single or double quotes, but you cannot start a string with a single quote and end it with a double quote or vice versa:\n",
        "\n",
        "string_1 = \"I am a string\"\n",
        "string_2 = 'I am also a string'\n",
        "string_3 = 'This is not valid\"\n",
        "\n",
        "\n",
        "---\n",
        "\n",
        "\n",
        "Delete your number variable and its value. Then, declare another variable called text and assign the string 'Hello World' to this variable."
      ],
      "metadata": {
        "id": "ezweeQ60vXP7"
      }
    },
    {
      "cell_type": "code",
      "source": [
        "text = 'Hello World'"
      ],
      "metadata": {
        "id": "UUhrCKodvG-1"
      },
      "execution_count": 10,
      "outputs": []
    },
    {
      "cell_type": "markdown",
      "source": [
        "**Step 3**\n",
        "You can use the built-in function print() to print the output of your code on the terminal.\n",
        "\n",
        "Functions are reusable code blocks that you can call, or invoke, to run their code when you need them. To call a function, you just need to write a pair of parentheses next to its name. You will learn more about functions very soon.\n",
        "\n",
        "\n",
        "---\n",
        "\n",
        "\n",
        "For now, go to a new line and add an empty call to the print() function. You should not see any output yet."
      ],
      "metadata": {
        "id": "pmfVN5_uwBmQ"
      }
    },
    {
      "cell_type": "code",
      "source": [
        "print()"
      ],
      "metadata": {
        "colab": {
          "base_uri": "https://localhost:8080/"
        },
        "id": "JF6XQZEUv2rM",
        "outputId": "0719056c-aa7f-4d1f-af3a-b4a3640224a4"
      },
      "execution_count": 11,
      "outputs": [
        {
          "output_type": "stream",
          "name": "stdout",
          "text": [
            "\n"
          ]
        }
      ]
    },
    {
      "cell_type": "markdown",
      "source": [
        "**Step 4**\n",
        "An argument is an object or an expression passed to a function — added between the opening and closing parentheses — when it is called:\n",
        "\n",
        "greet = 'Hello!'\n",
        "\n",
        "print(greet)\n",
        "\n",
        "The code in the example above would print the string 'Hello!', which is the value of the variable greet passed to print() as the argument.\n",
        "\n",
        "\n",
        "---\n",
        "\n",
        "\n",
        "\n",
        "Print your text variable to the screen by passing the text variable as the argument to the print() function."
      ],
      "metadata": {
        "id": "Y-btx81awYYP"
      }
    },
    {
      "cell_type": "code",
      "source": [
        "print(text)"
      ],
      "metadata": {
        "colab": {
          "base_uri": "https://localhost:8080/"
        },
        "id": "4m7flopZwg4_",
        "outputId": "aa5fa732-ec52-43fa-82f2-b725305658f4"
      },
      "execution_count": 12,
      "outputs": [
        {
          "output_type": "stream",
          "name": "stdout",
          "text": [
            "Hello World\n"
          ]
        }
      ]
    },
    {
      "cell_type": "markdown",
      "source": [
        "Step 5\n",
        "\n",
        "Each string character can be referenced by a numerical index. The index count starts at zero. So the first character of a string has an index of 0. For example, in the string 'Hello World', 'H' is at index 0, 'e' is at index 1, and so on.\n",
        "\n",
        "Each character of a string can be accessed by using bracket notation. You need to write the variable name followed by square brackets and add the index of the character between the brackets:\n",
        "\n",
        "text = 'Hello World'\n",
        "r = text[8]\n",
        "\n",
        "Now, instead of printing text, print just the character at index 6.\n"
      ],
      "metadata": {
        "id": "Lmn7EkDJHiIS"
      }
    },
    {
      "cell_type": "code",
      "source": [
        "text = 'Hello World'\n",
        "r = text[6]\n",
        "print(r)"
      ],
      "metadata": {
        "colab": {
          "base_uri": "https://localhost:8080/"
        },
        "id": "MQCILR0NHlVq",
        "outputId": "b85347a3-a683-4d7c-f176-5c3e1e78efe3"
      },
      "execution_count": 13,
      "outputs": [
        {
          "output_type": "stream",
          "name": "stdout",
          "text": [
            "W\n"
          ]
        }
      ]
    },
    {
      "cell_type": "markdown",
      "source": [
        "Step 6\n",
        "\n",
        "You can also access string characters starting from the end of the string. The last character has an index of -1, the second to last -2 and so on.\n",
        "\n",
        "Now modify your existing print() call to print the last character in your string.\n"
      ],
      "metadata": {
        "id": "qiv4GuEnHtsf"
      }
    },
    {
      "cell_type": "code",
      "source": [
        "print(text[-1])"
      ],
      "metadata": {
        "colab": {
          "base_uri": "https://localhost:8080/"
        },
        "id": "o7xsyldxH1bO",
        "outputId": "b5c07433-598c-4289-a109-dd31fff5fe18"
      },
      "execution_count": 14,
      "outputs": [
        {
          "output_type": "stream",
          "name": "stdout",
          "text": [
            "d\n"
          ]
        }
      ]
    },
    {
      "cell_type": "markdown",
      "source": [
        "Step 7\n",
        "\n",
        "You can access the number of characters in a string with the built-in len() function.\n",
        "\n",
        "Modify your existing print() call by passing len(text) instead of text[-1].\n"
      ],
      "metadata": {
        "id": "nVPOCBLUH7K8"
      }
    },
    {
      "cell_type": "code",
      "source": [
        "len (text)"
      ],
      "metadata": {
        "colab": {
          "base_uri": "https://localhost:8080/"
        },
        "id": "jDuRml2iHr9k",
        "outputId": "fa2e9fe9-e304-4487-f5c7-aad465ccd5b6"
      },
      "execution_count": 15,
      "outputs": [
        {
          "output_type": "execute_result",
          "data": {
            "text/plain": [
              "11"
            ]
          },
          "metadata": {},
          "execution_count": 15
        }
      ]
    },
    {
      "cell_type": "markdown",
      "source": [
        "Step 8\n",
        "\n",
        "You can see 11 printed on the terminal because 'Hello World' contains 11 characters.\n",
        "\n",
        "Another useful built-in function is type(), which returns the data type of a variable. Modify your print() call to print the data type of text.\n"
      ],
      "metadata": {
        "id": "tYToFre-IN0f"
      }
    },
    {
      "cell_type": "code",
      "source": [
        "print(type(text))"
      ],
      "metadata": {
        "colab": {
          "base_uri": "https://localhost:8080/"
        },
        "id": "ba_hrrWhIMgH",
        "outputId": "0c821b32-e6f9-42f2-b7cd-f5932a83a0a2"
      },
      "execution_count": 16,
      "outputs": [
        {
          "output_type": "stream",
          "name": "stdout",
          "text": [
            "<class 'str'>\n"
          ]
        }
      ]
    },
    {
      "cell_type": "markdown",
      "source": [
        "Step 9\n",
        "\n",
        "As you can see, the output of printing type(text) is <class 'str'>, which means that your variable is a string, indicated as str.\n",
        "\n",
        "Now go to a new line and create another variable called shift and assign the value 3 to this variable.\n"
      ],
      "metadata": {
        "id": "GNj8m6VrhAbQ"
      }
    },
    {
      "cell_type": "code",
      "source": [
        "shift = 3"
      ],
      "metadata": {
        "id": "c2bIf8wLg7w1"
      },
      "execution_count": 17,
      "outputs": []
    },
    {
      "cell_type": "markdown",
      "source": [
        "Step 10\n",
        "\n",
        "Now print your new variable."
      ],
      "metadata": {
        "id": "YHRVg9NJhV7N"
      }
    },
    {
      "cell_type": "code",
      "source": [
        "print(shift)"
      ],
      "metadata": {
        "colab": {
          "base_uri": "https://localhost:8080/"
        },
        "id": "sXq_-wEchNTD",
        "outputId": "b4afde96-ff62-4f9f-f8cd-a87268c860f7"
      },
      "execution_count": 18,
      "outputs": [
        {
          "output_type": "stream",
          "name": "stdout",
          "text": [
            "3\n"
          ]
        }
      ]
    },
    {
      "cell_type": "markdown",
      "source": [
        "Step 11\n",
        "\n",
        "Modify your print(shift) call to print the data type of your shift variable.\n"
      ],
      "metadata": {
        "id": "qxpH1tnMhoL2"
      }
    },
    {
      "cell_type": "code",
      "source": [
        "print(type(shift))"
      ],
      "metadata": {
        "colab": {
          "base_uri": "https://localhost:8080/"
        },
        "id": "lIr_xwQshUap",
        "outputId": "e1e4d11f-3aed-4c07-bbe8-b624b478ada9"
      },
      "execution_count": 19,
      "outputs": [
        {
          "output_type": "stream",
          "name": "stdout",
          "text": [
            "<class 'int'>\n"
          ]
        }
      ]
    },
    {
      "cell_type": "markdown",
      "source": [
        "Step 12\n",
        "\n",
        "Key aspects of variable naming in Python are:\n",
        "\n",
        "    Some words are reserved keywords (e.g. for, while, True). They have a special meaning in Python, so you cannot use them for variable names.\n",
        "    Variable names cannot start with a number, and they can only contain alpha-numeric characters or underscores.\n",
        "    Variable names are case sensitive, i.e. my_var is different from my_Var and MY_VAR.\n",
        "    Finally, it is a common convention to write variable names using snake_case, where each space is replaced by an underscore character and the words are written in lowercase letters.\n",
        "\n",
        "Remove both calls to print() and declare another variable called alphabet. Assign the string 'abcdefghijklmnopqrstuvwxyz' to this variable.\n"
      ],
      "metadata": {
        "id": "mlN13WmRiimo"
      }
    },
    {
      "cell_type": "code",
      "source": [
        "alphabet = 'abcdefghijklmnopqrstuvwxyz'"
      ],
      "metadata": {
        "id": "ISvflJmOih5a"
      },
      "execution_count": 20,
      "outputs": []
    },
    {
      "cell_type": "markdown",
      "source": [
        "Step 13\n",
        "\n",
        "You are going to use the .find() method to find the position in the alphabet of each letter in your message. A method is similar to a function, but it belongs to an object.\n",
        "\n",
        "sentence = 'My brain hurts!'\n",
        "sentence.find('r')\n",
        "\n",
        "Above, the .find() method is called on sentence (the string to search in), and 'r' (the character to locate) is passed as the argument. The sentence.find('r') call will return 4, which is the index of the first occurrence of 'r' in sentence.\n",
        "\n",
        "At the end of your code, call .find() on alphabet and pass 'z' as the argument to the method.\n"
      ],
      "metadata": {
        "id": "08cLRXwJi8M9"
      }
    },
    {
      "cell_type": "code",
      "source": [
        "alphabet.find('z')"
      ],
      "metadata": {
        "colab": {
          "base_uri": "https://localhost:8080/"
        },
        "id": "-AIq27ZYi7dx",
        "outputId": "f3187650-349a-4558-8539-2366edf48363"
      },
      "execution_count": 21,
      "outputs": [
        {
          "output_type": "execute_result",
          "data": {
            "text/plain": [
              "25"
            ]
          },
          "metadata": {},
          "execution_count": 21
        }
      ]
    },
    {
      "cell_type": "markdown",
      "source": [
        "Step 14\n",
        "\n",
        "The first kind of cipher you are going to build is called a Caesar cipher. Specifically, you will take each letter in your message, find its position in the alphabet, take the letter located after 3 positions in the alphabet, and replace the original letter with the new letter.\n",
        "\n",
        "To implement this, you will use the .find() method discussed in the previous step. Modify your existing .find() call passing it text[0] as the argument instead of 'z'.\n"
      ],
      "metadata": {
        "id": "YSzhSOVKji48"
      }
    },
    {
      "cell_type": "code",
      "source": [
        "text = 'Hello World'\n",
        "shift = 3\n",
        "alphabet = 'abcdefghijklmnopqrstuvwxyz'\n",
        "alphabet.find(text[0])"
      ],
      "metadata": {
        "colab": {
          "base_uri": "https://localhost:8080/"
        },
        "id": "hl1UescNdy7L",
        "outputId": "399677fe-d185-4ba7-f132-c86347013bc1"
      },
      "execution_count": 22,
      "outputs": [
        {
          "output_type": "execute_result",
          "data": {
            "text/plain": [
              "-1"
            ]
          },
          "metadata": {},
          "execution_count": 22
        }
      ]
    },
    {
      "cell_type": "markdown",
      "source": [
        "Step 15\n",
        "\n",
        "The print() function gives you only an output in the console, but functions and methods can have a return value that you can use in your code.\n",
        "\n",
        "Now assign alphabet.find(text[0]) to a variable named index. In this way, index will store the value returned by alphabet.find(text[0])."
      ],
      "metadata": {
        "id": "G6BVVdrtotra"
      }
    },
    {
      "cell_type": "code",
      "source": [
        "index = alphabet.find(text[0])"
      ],
      "metadata": {
        "id": "Fjcf7fSrovMt"
      },
      "execution_count": 23,
      "outputs": []
    },
    {
      "cell_type": "markdown",
      "source": [
        "Step 16\n",
        "\n",
        "Next, print the index variable to the console.\n"
      ],
      "metadata": {
        "id": "U84SA8Ui86-G"
      }
    },
    {
      "cell_type": "code",
      "source": [
        "print(index)"
      ],
      "metadata": {
        "colab": {
          "base_uri": "https://localhost:8080/"
        },
        "id": "EKU3mubC89o8",
        "outputId": "0c42acfb-59a2-4ed8-ed31-b177f47e4f06"
      },
      "execution_count": 24,
      "outputs": [
        {
          "output_type": "stream",
          "name": "stdout",
          "text": [
            "-1\n"
          ]
        }
      ]
    },
    {
      "cell_type": "markdown",
      "source": [
        "Step 17\n",
        "\n",
        ".find() returns the index of the matching character inside the string. If the character is not found, it returns -1. As you can see, the first character in text, uppercase 'H', is not found, since alphabet contains only lowercase letters.\n",
        "\n",
        "You can transform a string into its lowercase equivalent with the .lower() method. Add another print() call to print text.lower() and see the output.\n"
      ],
      "metadata": {
        "id": "i1CSppFQ9C9t"
      }
    },
    {
      "cell_type": "code",
      "source": [
        "print(text.lower())"
      ],
      "metadata": {
        "colab": {
          "base_uri": "https://localhost:8080/"
        },
        "id": "UEv2-kAu9CC_",
        "outputId": "f99c18bf-dd42-40cc-8507-65527ba43223"
      },
      "execution_count": 25,
      "outputs": [
        {
          "output_type": "stream",
          "name": "stdout",
          "text": [
            "hello world\n"
          ]
        }
      ]
    },
    {
      "cell_type": "markdown",
      "source": [
        "Step 18\n",
        "\n",
        "Remove the last print() call. Then, instead of text[0], pass text[0].lower() as the argument to your .find() call and see the output.\n"
      ],
      "metadata": {
        "id": "eEJYBq4d_BYS"
      }
    },
    {
      "cell_type": "code",
      "source": [
        "index = alphabet.find(text[0].lower())\n",
        "print(index)"
      ],
      "metadata": {
        "colab": {
          "base_uri": "https://localhost:8080/"
        },
        "id": "Gkhng1fr9gRN",
        "outputId": "2f2eac22-63ee-4872-ee71-4b426729223e"
      },
      "execution_count": 26,
      "outputs": [
        {
          "output_type": "stream",
          "name": "stdout",
          "text": [
            "7\n"
          ]
        }
      ]
    },
    {
      "cell_type": "markdown",
      "source": [
        "Step 19\n",
        "\n",
        "Declare a new variable named shifted. Use the bracket notation to access the value of alphabet at index index and assign it to your new variable.\n"
      ],
      "metadata": {
        "id": "qrvNMu0S_dbL"
      }
    },
    {
      "cell_type": "code",
      "source": [
        "shifted = alphabet[index]"
      ],
      "metadata": {
        "id": "UTcnU2Bb_ebb"
      },
      "execution_count": 27,
      "outputs": []
    },
    {
      "cell_type": "markdown",
      "source": [
        "Step 20\n",
        "\n",
        "Print your shifted variable.\n"
      ],
      "metadata": {
        "id": "EKFE6Sgw_1TY"
      }
    },
    {
      "cell_type": "code",
      "source": [
        "print(shifted)"
      ],
      "metadata": {
        "colab": {
          "base_uri": "https://localhost:8080/"
        },
        "id": "eN6O6-96_2G_",
        "outputId": "743c07ca-fd60-490e-f6ba-28c751e791c8"
      },
      "execution_count": 28,
      "outputs": [
        {
          "output_type": "stream",
          "name": "stdout",
          "text": [
            "h\n"
          ]
        }
      ]
    },
    {
      "cell_type": "markdown",
      "source": [
        "Step 21\n",
        "\n",
        "As you can see from the output, 'h' is at index 7 in the alphabet string. Now you need to find the letter at index 7 plus the value of shift. For that, you can use the addition operator, +, in the same way you would use it for a mathematical addition.\n",
        "\n",
        "Modify your shifted variable so that it stores the value of alphabet at index index + shift.\n"
      ],
      "metadata": {
        "id": "26mW_BEz_6Pk"
      }
    },
    {
      "cell_type": "code",
      "source": [
        "shifted = alphabet[index + shift]\n",
        "print(shifted)"
      ],
      "metadata": {
        "id": "arJYH07b_5Jw",
        "colab": {
          "base_uri": "https://localhost:8080/"
        },
        "outputId": "69e37c7c-a136-4ae5-f2c5-7b802f11c1fe"
      },
      "execution_count": 29,
      "outputs": [
        {
          "output_type": "stream",
          "name": "stdout",
          "text": [
            "k\n"
          ]
        }
      ]
    },
    {
      "cell_type": "markdown",
      "source": [
        "Step 22\n",
        "\n",
        "Repeating the process of locating the letter inside the alphabet and determine the shifted letter for each character in text can be tedious. Thankfully, you can simplify it using a loop.\n",
        "\n",
        "For now, remove all the lines of code below the declaration of the alphabet variable."
      ],
      "metadata": {
        "id": "EOx6uuOMGDBs"
      }
    },
    {
      "cell_type": "code",
      "source": [
        "text = 'Hello World'\n",
        "shift = 3\n",
        "alphabet = 'abcdefghijklmnopqrstuvwxyz'"
      ],
      "metadata": {
        "id": "nX7C0FRdGCIF"
      },
      "execution_count": 30,
      "outputs": []
    },
    {
      "cell_type": "markdown",
      "source": [
        "Step 23\n",
        "\n",
        "A loop allows you to systematically go through a sequence of elements and execute actions on each one.\n",
        "\n",
        "In this case, you'll employ a for loop. Here's how you can iterate over text:\n",
        "\n",
        "for i in text:\n",
        "for is the keyword denoting the loop type. i is a variable that sequentially takes the value of the elements in text. The statement ends with a colon, :.\n",
        "\n",
        "Below the line where you declared alphabet, write a for loop to iterate over text. Use i as the loop variable.\n",
        "\n",
        "Doing so, there is an error in the terminal. You will learn about it in the next step."
      ],
      "metadata": {
        "id": "Pelh-dnsGP13"
      }
    },
    {
      "cell_type": "code",
      "source": [
        "for i in text:"
      ],
      "metadata": {
        "colab": {
          "base_uri": "https://localhost:8080/",
          "height": 106
        },
        "id": "8vEkk7xjGWC4",
        "outputId": "9d6f6d19-61ee-4098-f3ef-394e66bfc18b"
      },
      "execution_count": 31,
      "outputs": [
        {
          "output_type": "error",
          "ename": "SyntaxError",
          "evalue": "incomplete input (<ipython-input-31-a7308b565b9e>, line 1)",
          "traceback": [
            "\u001b[0;36m  File \u001b[0;32m\"<ipython-input-31-a7308b565b9e>\"\u001b[0;36m, line \u001b[0;32m1\u001b[0m\n\u001b[0;31m    for i in text:\u001b[0m\n\u001b[0m                  ^\u001b[0m\n\u001b[0;31mSyntaxError\u001b[0m\u001b[0;31m:\u001b[0m incomplete input\n"
          ]
        }
      ]
    },
    {
      "cell_type": "markdown",
      "source": [
        "Step 24\n",
        "\n",
        "The code to execute at each iteration — placed after the : — constitutes the body of the loop. This code must be indented. In Python, it is recommended to use 4 spaces per indentation level. This indented level is a code block.\n",
        "\n",
        "for i in text:\n",
        "    print(i)\n",
        "Python relies on indentation to indicate blocks of code. A colon at the end of a line is a signal that a new indented block of code will follow.\n",
        "\n",
        "So, when no indented block is found after the final colon, the code execution stops and an IndentationError is thrown. This code will not show the output and instead raise an IndentationError:\n",
        "\n",
        "for i in text:\n",
        "print(i)\n",
        "Give your for loop a body by adding a call to print(i). Remember to indent the loop body."
      ],
      "metadata": {
        "id": "9tfHtRUUGmf0"
      }
    },
    {
      "cell_type": "code",
      "source": [
        "for i in text:\n",
        "    print(i)"
      ],
      "metadata": {
        "colab": {
          "base_uri": "https://localhost:8080/"
        },
        "id": "jUUyPSWQHWzg",
        "outputId": "9235e014-f7d5-44d4-bf73-efa48d8d84aa"
      },
      "execution_count": 32,
      "outputs": [
        {
          "output_type": "stream",
          "name": "stdout",
          "text": [
            "H\n",
            "e\n",
            "l\n",
            "l\n",
            "o\n",
            " \n",
            "W\n",
            "o\n",
            "r\n",
            "l\n",
            "d\n"
          ]
        }
      ]
    },
    {
      "cell_type": "code",
      "source": [],
      "metadata": {
        "id": "ncZoGdx6Hb7t"
      },
      "execution_count": null,
      "outputs": []
    }
  ]
}